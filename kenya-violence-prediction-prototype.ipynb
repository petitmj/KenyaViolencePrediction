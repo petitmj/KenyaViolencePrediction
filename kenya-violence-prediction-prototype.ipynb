{
 "cells": [
  {
   "cell_type": "markdown",
   "id": "dc9a26a5",
   "metadata": {
    "papermill": {
     "duration": 0.003443,
     "end_time": "2025-07-12T05:39:55.991706",
     "exception": false,
     "start_time": "2025-07-12T05:39:55.988263",
     "status": "completed"
    },
    "tags": []
   },
   "source": [
    "# **1. Introduction & Setup**\n",
    "\n",
    "This initial section provides a brief overview of the project's goal: to build a prototype AI system for analyzing political statements in Kenya and assessing the risk of post-election violence. It also includes the necessary Python libraries for the project, along with instructions for their installation."
   ]
  },
  {
   "cell_type": "code",
   "execution_count": 1,
   "id": "69cca091",
   "metadata": {
    "_cell_guid": "b1076dfc-b9ad-4769-8c92-a6c4dae69d19",
    "_uuid": "8f2839f25d086af736a60e9eeb907d3b93b6e0e5",
    "execution": {
     "iopub.execute_input": "2025-07-12T05:39:55.999757Z",
     "iopub.status.busy": "2025-07-12T05:39:55.998863Z",
     "iopub.status.idle": "2025-07-12T05:40:00.898924Z",
     "shell.execute_reply": "2025-07-12T05:40:00.897825Z"
    },
    "papermill": {
     "duration": 4.905687,
     "end_time": "2025-07-12T05:40:00.900643",
     "exception": false,
     "start_time": "2025-07-12T05:39:55.994956",
     "status": "completed"
    },
    "tags": []
   },
   "outputs": [
    {
     "name": "stderr",
     "output_type": "stream",
     "text": [
      "[nltk_data] Downloading package vader_lexicon to\n",
      "[nltk_data]     /usr/share/nltk_data...\n",
      "[nltk_data]   Package vader_lexicon is already up-to-date!\n"
     ]
    },
    {
     "data": {
      "text/plain": [
       "True"
      ]
     },
     "execution_count": 1,
     "metadata": {},
     "output_type": "execute_result"
    }
   ],
   "source": [
    "# Import necessary libraries\n",
    "import re\n",
    "import pandas as pd\n",
    "import nltk\n",
    "from nltk.sentiment.vader import SentimentIntensityAnalyzer\n",
    "import matplotlib.pyplot as plt\n",
    "\n",
    "# Download the VADER lexicon for sentiment analysis\n",
    "# This only needs to be run once\n",
    "nltk.download('vader_lexicon')"
   ]
  },
  {
   "cell_type": "markdown",
   "id": "5d57a22d",
   "metadata": {
    "papermill": {
     "duration": 0.002767,
     "end_time": "2025-07-12T05:40:00.906641",
     "exception": false,
     "start_time": "2025-07-12T05:40:00.903874",
     "status": "completed"
    },
    "tags": []
   },
   "source": [
    "# **2. Data Loading & Preprocessing**\n",
    "\n",
    "This section handles the loading and cleaning of the dummy data. The raw text data is parsed to extract the speaker, timestamp, and the statement itself. This cleaned data is then structured into a pandas DataFrame for easier manipulation and analysis."
   ]
  },
  {
   "cell_type": "code",
   "execution_count": 2,
   "id": "d2720705",
   "metadata": {
    "execution": {
     "iopub.execute_input": "2025-07-12T05:40:00.914537Z",
     "iopub.status.busy": "2025-07-12T05:40:00.914033Z",
     "iopub.status.idle": "2025-07-12T05:40:00.941999Z",
     "shell.execute_reply": "2025-07-12T05:40:00.940529Z"
    },
    "papermill": {
     "duration": 0.034052,
     "end_time": "2025-07-12T05:40:00.943834",
     "exception": false,
     "start_time": "2025-07-12T05:40:00.909782",
     "status": "completed"
    },
    "tags": []
   },
   "outputs": [
    {
     "name": "stdout",
     "output_type": "stream",
     "text": [
      "      speaker            timestamp  \\\n",
      "0   President  2027-11-15 14:30:00   \n",
      "1   President  2027-11-17 16:48:00   \n",
      "2    Security  2027-11-15 11:02:00   \n",
      "3    Security  2027-11-16 18:55:00   \n",
      "4    Security  2027-11-17 08:21:00   \n",
      "5      Leader  2027-11-15 13:37:00   \n",
      "6      Leader  2027-11-16 04:19:00   \n",
      "7   President  2027-11-18 10:53:00   \n",
      "8    Security  2027-11-19 16:28:00   \n",
      "9      Leader  2027-11-20 09:45:00   \n",
      "10  President  2027-11-21 13:11:00   \n",
      "11   Security  2027-11-22 18:34:00   \n",
      "12     Leader  2027-11-23 05:59:00   \n",
      "13  President  2027-11-24 11:26:00   \n",
      "14   Security  2027-11-25 17:03:00   \n",
      "15     Leader  2027-11-26 08:12:00   \n",
      "16  President  2027-11-27 14:47:00   \n",
      "17   Security  2027-11-28 19:31:00   \n",
      "18     Leader  2027-11-29 06:54:00   \n",
      "19  President  2027-11-30 12:18:00   \n",
      "20   Security  2027-11-31 18:05:00   \n",
      "21     Leader  2027-12-01 09:23:00   \n",
      "22  President  2027-12-02 15:47:00   \n",
      "23   Security  2027-12-03 20:19:00   \n",
      "24     Leader  2027-12-04 07:36:00   \n",
      "25  President  2027-12-05 11:58:00   \n",
      "26   Security  2027-12-06 17:24:00   \n",
      "27     Leader  2027-12-07 08:41:00   \n",
      "\n",
      "                                            statement  \n",
      "0   We will not tolerate any attempts to undermine...  \n",
      "1   I urge all Kenyans to remain calm and patient ...  \n",
      "2   The security situation remains delicate, and w...  \n",
      "3   Let me be clear: anyone attempting to incite u...  \n",
      "4   We are monitoring the situation closely and ta...  \n",
      "5   The tensions in [Region Name] are palpable, an...  \n",
      "6   There have been reports of increased mobilizat...  \n",
      "7   I want to assure the people that we are doing ...  \n",
      "8   We have identified several individuals involve...  \n",
      "9   The situation is becoming increasingly volatil...  \n",
      "10  Let me be absolutely clear: any attempt to dis...  \n",
      "11  We are urging all political leaders to exercis...  \n",
      "12  The security forces remain on high alert, read...  \n",
      "13  I understand the frustrations of many Kenyans,...  \n",
      "14  We are working with international partners to ...  \n",
      "15  The situation is fragile, and we must remain v...  \n",
      "16  I want to reiterate my commitment to upholding...  \n",
      "17  We will not tolerate any form of intimidation ...  \n",
      "18  The security situation remains tense, and we u...  \n",
      "19  Let me be clear: the integrity of this electio...  \n",
      "20  We are deploying additional personnel to hotsp...  \n",
      "21  The situation is deteriorating rapidly. We nee...  \n",
      "22  I call on all Kenyans to reject the divisive r...  \n",
      "23  We are prepared to use force if necessary to m...  \n",
      "24  The risk of escalation is extremely high. We m...  \n",
      "25        Let us not repeat the mistakes of the past.  \n",
      "26  We are monitoring all communications and takin...  \n",
      "27  The time for dialogue is over. We need immedia...  \n"
     ]
    }
   ],
   "source": [
    "import re\n",
    "import pandas as pd\n",
    "\n",
    "# Raw data provided in the prompt\n",
    "data = \"\"\"\n",
    "President - 2027-11-15 14:30:00 - \"We will not tolerate any attempts to undermine the will of the people! Those who seek to sow discord and chaos must be held accountable for their actions. Let no one mistake our resolve!\"\n",
    "President - 2027-11-16 09:15:00 - \"The reports of irregularities are deeply concerning. We demand a full and transparent investigation, and we will not hesitate to take action if necessary to protect the integrity of our electoral process.'\n",
    "President - 2027-11-17 16:48:00 - \"I urge all Kenyans to remain calm and patient as we work through these challenging times. We must resist the divisive rhetoric that seeks to pit us against one another!\"\n",
    "Minister of Internal Security - 2027-11-15 11:02:00 - \"The security situation remains delicate, and we are deploying additional resources to maintain order and prevent any escalation of violence. We will not allow criminals and troublemakers to disrupt the peace.\"\n",
    "Minister of Internal Security - 2027-11-16 18:55:00 - \"Let me be clear: anyone attempting to incite unrest or engage in unlawful behavior will face swift and decisive consequences. The rule of law must prevail!\"\n",
    "Minister of Internal Security - 2027-11-17 08:21:00 - \"We are monitoring the situation closely and taking all necessary steps to ensure the safety and security of our citizens. Some individuals are exploiting anxieties for their own gain.\"\n",
    "Security Committee Leader - 2027-11-15 13:37:00 - \"The tensions in [Region Name] are palpable, and we urge residents to remain vigilant and report any suspicious activity to the authorities. We must protect our communities!\"\n",
    "Security Committee Leader - 2027-11-16 04:19:00 - \"There have been reports of increased mobilization along ethnic lines, which is deeply worrying. We need to address these divisions before they erupt into violence.\"\n",
    "President - 2027-11-18 10:53:00 - \"I want to assure the people that we are doing everything in our power to ensure a fair and just outcome. Some voices are deliberately spreading misinformation, attempting to mislead the public!\"\n",
    "Minister of Internal Security - 2027-11-19 16:28:00 - \"We have identified several individuals involved in spreading false rumors and inciting violence. We will not hesitate to bring them to justice.\"\n",
    "Security Committee Leader - 2027-11-20 09:45:00 - \"The situation is becoming increasingly volatile, and we are prepared to take all necessary measures to maintain order. We cannot allow a small group of agitators to dictate the future of our nation.\"\n",
    "President - 2027-11-21 13:11:00 - \"Let me be absolutely clear: any attempt to disrupt the electoral process will be met with an iron fist! We will not tolerate anarchy!\"\n",
    "Minister of Internal Security - 2027-11-22 18:34:00 - \"We are urging all political leaders to exercise restraint and refrain from making inflammatory statements that could further exacerbate tensions.\"\n",
    "Security Committee Leader - 2027-11-23 05:59:00 - \"The security forces remain on high alert, ready to respond swiftly to any threats. We must not allow fear to paralyze us!\"\n",
    "President - 2027-11-24 11:26:00 - \"I understand the frustrations of many Kenyans, but violence is never the answer. We need dialogue and compromise, not chaos and destruction.\"\n",
    "Minister of Internal Security - 2027-11-25 17:03:00 - \"We are working with international partners to ensure that Kenya remains a stable and secure nation. We will not allow external forces to interfere in our internal affairs.\"\n",
    "Security Committee Leader - 2027-11-26 08:12:00 - \"The situation is fragile, and we must remain vigilant against any attempts to destabilize the country. We cannot afford to be complacent!\"\n",
    "President - 2027-11-27 14:47:00 - \"I want to reiterate my commitment to upholding the rule of law and ensuring that all Kenyans are treated with dignity and respect.\"\n",
    "Minister of Internal Security - 2027-11-28 19:31:00 - \"We will not tolerate any form of intimidation or harassment. Those who engage in such behavior will be brought to justice.\"\n",
    "Security Committee Leader - 2027-11-29 06:54:00 - \"The security situation remains tense, and we urge residents to cooperate with law enforcement officials. We must work together to maintain peace and stability.\"\n",
    "President - 2027-11-30 12:18:00 - \"Let me be clear: the integrity of this election is paramount. Any attempts to challenge the results will be met with a firm response.\"\n",
    "Minister of Internal Security - 2027-11-31 18:05:00 - \"We are deploying additional personnel to hotspots and urging citizens to remain calm and avoid engaging in any provocative behavior.\"\n",
    "Security Committee Leader - 2027-12-01 09:23:00 - \"The situation is deteriorating rapidly. We need immediate action to prevent further violence.\"\n",
    "President - 2027-12-02 15:47:00 - \"I call on all Kenyans to reject the divisive rhetoric and embrace unity.\"\n",
    "Minister of Internal Security - 2027-12-03 20:19:00 - \"We are prepared to use force if necessary to maintain order.\"\n",
    "Security Committee Leader - 2027-12-04 07:36:00 - \"The risk of escalation is extremely high. We must act decisively.\"\n",
    "President - 2027-12-05 11:58:00 - \"Let us not repeat the mistakes of the past.\"\n",
    "Minister of Internal Security - 2027-12-06 17:24:00 - \"We are monitoring all communications and taking action against those spreading misinformation.\"\n",
    "Security Committee Leader - 2027-12-07 08:41:00 - \"The time for dialogue is over. We need immediate intervention.\"\n",
    "\"\"\"\n",
    "\n",
    "# Function to parse the raw data\n",
    "def parse_data(data):\n",
    "    \"\"\"\n",
    "    This function takes a string of text as input, parses it line by line,\n",
    "    and extracts speaker, timestamp, and statement from each line.\n",
    "    \n",
    "    Args:\n",
    "        data (str): A string containing raw data in the specified format.\n",
    "        \n",
    "    Returns:\n",
    "        list: A list of lists, where each sublist contains speaker, timestamp, and statement.\n",
    "    \"\"\"\n",
    "    \n",
    "    # Split the input string into lines\n",
    "    lines = data.strip().split('\\n')\n",
    "    \n",
    "    # Initialize an empty list to store parsed data\n",
    "    parsed_data = []\n",
    "    \n",
    "    # Loop through each line in the data\n",
    "    for line in lines:\n",
    "        # Use a regular expression to match speaker, timestamp, and statement\n",
    "        match = re.search(r'(?P<speaker>[^ -]+) - (?P<timestamp>\\d{4}-\\d{2}-\\d{2} \\d{2}:\\d{2}:\\d{2}) - \"(?P<statement>.*)\"', line)\n",
    "        \n",
    "        # If a match is found, extract speaker, timestamp, and statement\n",
    "        if match:\n",
    "            speaker = match.group('speaker')\n",
    "            timestamp = match.group('timestamp')\n",
    "            statement = match.group('statement')\n",
    "            \n",
    "            # Append the extracted data to parsed_data list\n",
    "            parsed_data.append([speaker, timestamp, statement])\n",
    "    \n",
    "    # Return the parsed data\n",
    "    return parsed_data\n",
    "\n",
    "# Import necessary libraries\n",
    "import re\n",
    "import pandas as pd\n",
    "\n",
    "# Parse the raw data\n",
    "parsed_data = parse_data(data)\n",
    "\n",
    "# Create a DataFrame from the parsed data\n",
    "df = pd.DataFrame(parsed_data, columns=['speaker', 'timestamp', 'statement'])\n",
    "\n",
    "# Print the resulting DataFrame\n",
    "print(df)\n"
   ]
  },
  {
   "cell_type": "markdown",
   "id": "fd03062c",
   "metadata": {
    "papermill": {
     "duration": 0.002834,
     "end_time": "2025-07-12T05:40:00.950152",
     "exception": false,
     "start_time": "2025-07-12T05:40:00.947318",
     "status": "completed"
    },
    "tags": []
   },
   "source": [
    "# **3. NLP Analysis**\n",
    "\n",
    "The core of the analysis happens here. The Natural Language Toolkit (NLTK) is used for sentiment analysis. Specifically, the VADER (Valence Aware Dictionary and sEntiment Reasoner) lexicon is employed to calculate a sentiment score for each political statement. A list of keywords associated with inciteful language is also defined to quantify the level of inflammatory content."
   ]
  },
  {
   "cell_type": "code",
   "execution_count": 3,
   "id": "763c4b42",
   "metadata": {
    "execution": {
     "iopub.execute_input": "2025-07-12T05:40:00.957377Z",
     "iopub.status.busy": "2025-07-12T05:40:00.957070Z",
     "iopub.status.idle": "2025-07-12T05:40:00.978712Z",
     "shell.execute_reply": "2025-07-12T05:40:00.977557Z"
    },
    "papermill": {
     "duration": 0.027257,
     "end_time": "2025-07-12T05:40:00.980384",
     "exception": false,
     "start_time": "2025-07-12T05:40:00.953127",
     "status": "completed"
    },
    "tags": []
   },
   "outputs": [],
   "source": [
    "# Initialize the sentiment analyzer\n",
    "sid = SentimentIntensityAnalyzer()\n",
    "\n",
    "# Define inciteful keywords\n",
    "inciteful_keywords = [\n",
    "    'tolerate', 'undermine', 'discord', 'chaos', 'accountable', 'irregularities',\n",
    "    'violence', 'criminals', 'troublemakers', 'unrest', 'unlawful', 'consequences',\n",
    "    'tensions', 'mobilization', 'ethnic', 'divisions', 'misinformation', 'agitators',\n",
    "    'anarchy', 'inflammatory', 'threats', 'fear', 'destabilize', 'intimidation',\n",
    "    'harassment', 'provocative', 'deteriorating', 'force', 'escalation', 'intervention'\n",
    "]\n",
    "\n",
    "# Function to calculate sentiment score\n",
    "def get_sentiment_score(statement):\n",
    "    return sid.polarity_scores(statement)['compound']\n",
    "\n",
    "# Function to count inciteful keywords\n",
    "def count_inciteful_keywords(statement):\n",
    "    count = 0\n",
    "    for word in inciteful_keywords:\n",
    "        if word in statement.lower():\n",
    "            count += 1\n",
    "    return count"
   ]
  },
  {
   "cell_type": "markdown",
   "id": "d97b103c",
   "metadata": {
    "papermill": {
     "duration": 0.002761,
     "end_time": "2025-07-12T05:40:00.986375",
     "exception": false,
     "start_time": "2025-07-12T05:40:00.983614",
     "status": "completed"
    },
    "tags": []
   },
   "source": [
    "# **4. Feature Extraction**\n",
    "\n",
    "Based on the NLP analysis, this section creates numerical features for each statement. These features include the calculated sentiment score and the frequency of inciteful keywords. These numerical representations will be used to calculate the final probability score."
   ]
  },
  {
   "cell_type": "code",
   "execution_count": 4,
   "id": "b7e9c869",
   "metadata": {
    "execution": {
     "iopub.execute_input": "2025-07-12T05:40:00.994879Z",
     "iopub.status.busy": "2025-07-12T05:40:00.994329Z",
     "iopub.status.idle": "2025-07-12T05:40:01.012598Z",
     "shell.execute_reply": "2025-07-12T05:40:01.011583Z"
    },
    "papermill": {
     "duration": 0.025067,
     "end_time": "2025-07-12T05:40:01.014734",
     "exception": false,
     "start_time": "2025-07-12T05:40:00.989667",
     "status": "completed"
    },
    "tags": []
   },
   "outputs": [],
   "source": [
    "# Apply the functions to the DataFrame\n",
    "df['sentiment_score'] = df['statement'].apply(get_sentiment_score)\n",
    "df['inciteful_keyword_count'] = df['statement'].apply(count_inciteful_keywords)"
   ]
  },
  {
   "cell_type": "markdown",
   "id": "24082616",
   "metadata": {
    "papermill": {
     "duration": 0.002971,
     "end_time": "2025-07-12T05:40:01.021096",
     "exception": false,
     "start_time": "2025-07-12T05:40:01.018125",
     "status": "completed"
    },
    "tags": []
   },
   "source": [
    "# **5. Probability Score Calculation**\n",
    "\n",
    "A tiered leader weighting system is implemented in this section to calculate a probability score for each statement. This system assigns different weights to statements based on the speaker's role (President, Minister of Internal Security, or Security Committee Leader). The formula combines the sentiment, inciteful keyword count, and the speaker's weight to produce a final risk score."
   ]
  },
  {
   "cell_type": "code",
   "execution_count": 5,
   "id": "b77a452d",
   "metadata": {
    "execution": {
     "iopub.execute_input": "2025-07-12T05:40:01.028805Z",
     "iopub.status.busy": "2025-07-12T05:40:01.028378Z",
     "iopub.status.idle": "2025-07-12T05:40:01.037901Z",
     "shell.execute_reply": "2025-07-12T05:40:01.036708Z"
    },
    "papermill": {
     "duration": 0.015261,
     "end_time": "2025-07-12T05:40:01.039578",
     "exception": false,
     "start_time": "2025-07-12T05:40:01.024317",
     "status": "completed"
    },
    "tags": []
   },
   "outputs": [],
   "source": [
    "# Define weights for each leader tier\n",
    "leader_weights = {\n",
    "    'President': 0.5,\n",
    "    'Minister of Internal Security': 0.3,\n",
    "    'Security Committee Leader': 0.2\n",
    "}\n",
    "\n",
    "# Function to calculate the probability score\n",
    "def calculate_probability_score(row):\n",
    "    # This is a simple formula for demonstration.\n",
    "    # It can be made more sophisticated.\n",
    "    # We use the absolute value of sentiment for negative statements\n",
    "    # and add the keyword count, then multiply by the leader's weight.\n",
    "    base_score = (abs(row['sentiment_score']) * (1 + row['inciteful_keyword_count']))\n",
    "    weighted_score = base_score * leader_weights.get(row['speaker'], 0)\n",
    "    return weighted_score\n",
    "\n",
    "# Apply the function to the DataFrame\n",
    "df['probability_score'] = df.apply(calculate_probability_score, axis=1)"
   ]
  },
  {
   "cell_type": "markdown",
   "id": "f353f67f",
   "metadata": {
    "papermill": {
     "duration": 0.002932,
     "end_time": "2025-07-12T05:40:01.045757",
     "exception": false,
     "start_time": "2025-07-12T05:40:01.042825",
     "status": "completed"
    },
    "tags": []
   },
   "source": [
    "# **6. Output & Visualization**\n",
    "\n",
    "This section presents the results of the analysis. It prints the DataFrame containing the original statement, its sentiment score, the frequency of inciteful keywords, and the final calculated probability score. A bar chart is also generated to visualize the distribution of these probability scores, providing a clear overview of the risk levels associated with the analyzed statements"
   ]
  },
  {
   "cell_type": "code",
   "execution_count": 6,
   "id": "98cb1756",
   "metadata": {
    "execution": {
     "iopub.execute_input": "2025-07-12T05:40:01.053011Z",
     "iopub.status.busy": "2025-07-12T05:40:01.052632Z",
     "iopub.status.idle": "2025-07-12T05:40:01.525953Z",
     "shell.execute_reply": "2025-07-12T05:40:01.524249Z"
    },
    "papermill": {
     "duration": 0.480112,
     "end_time": "2025-07-12T05:40:01.528874",
     "exception": false,
     "start_time": "2025-07-12T05:40:01.048762",
     "status": "completed"
    },
    "tags": []
   },
   "outputs": [
    {
     "name": "stdout",
     "output_type": "stream",
     "text": [
      "                                                                                                                                                                                                           statement  sentiment_score  inciteful_keyword_count  probability_score\n",
      "0                         We will not tolerate any attempts to undermine the will of the people! Those who seek to sow discord and chaos must be held accountable for their actions. Let no one mistake our resolve!          -0.8802                        5            2.64060\n",
      "1                                           I urge all Kenyans to remain calm and patient as we work through these challenging times. We must resist the divisive rhetoric that seeks to pit us against one another!           0.4926                        0            0.24630\n",
      "2   The security situation remains delicate, and we are deploying additional resources to maintain order and prevent any escalation of violence. We will not allow criminals and troublemakers to disrupt the peace.           0.0598                        4            0.00000\n",
      "3                                                        Let me be clear: anyone attempting to incite unrest or engage in unlawful behavior will face swift and decisive consequences. The rule of law must prevail!           0.7901                        3            0.00000\n",
      "4                            We are monitoring the situation closely and taking all necessary steps to ensure the safety and security of our citizens. Some individuals are exploiting anxieties for their own gain.           0.7717                        0            0.00000\n",
      "5                                       The tensions in [Region Name] are palpable, and we urge residents to remain vigilant and report any suspicious activity to the authorities. We must protect our communities!          -0.2942                        1            0.00000\n",
      "6                                                There have been reports of increased mobilization along ethnic lines, which is deeply worrying. We need to address these divisions before they erupt into violence.          -0.6901                        4            0.00000\n",
      "7                  I want to assure the people that we are doing everything in our power to ensure a fair and just outcome. Some voices are deliberately spreading misinformation, attempting to mislead the public!           0.6800                        1            0.68000\n",
      "8                                                                    We have identified several individuals involved in spreading false rumors and inciting violence. We will not hesitate to bring them to justice.           0.0294                        1            0.00000\n",
      "9             The situation is becoming increasingly volatile, and we are prepared to take all necessary measures to maintain order. We cannot allow a small group of agitators to dictate the future of our nation.          -0.4340                        1            0.00000\n",
      "10                                                                             Let me be absolutely clear: any attempt to disrupt the electoral process will be met with an iron fist! We will not tolerate anarchy!           0.5388                        2            0.80820\n",
      "11                                                                 We are urging all political leaders to exercise restraint and refrain from making inflammatory statements that could further exacerbate tensions.          -0.4019                        2            0.00000\n",
      "12                                                                                         The security forces remain on high alert, ready to respond swiftly to any threats. We must not allow fear to paralyze us!           0.7753                        3            0.00000\n",
      "13                                                                      I understand the frustrations of many Kenyans, but violence is never the answer. We need dialogue and compromise, not chaos and destruction.           0.0885                        2            0.13275\n",
      "14                                       We are working with international partners to ensure that Kenya remains a stable and secure nation. We will not allow external forces to interfere in our internal affairs.           0.6740                        1            0.00000\n",
      "15                                                                         The situation is fragile, and we must remain vigilant against any attempts to destabilize the country. We cannot afford to be complacent!           0.1759                        1            0.00000\n",
      "16                                                                                I want to reiterate my commitment to upholding the rule of law and ensuring that all Kenyans are treated with dignity and respect.           0.8689                        0            0.43445\n",
      "17                                                                                        We will not tolerate any form of intimidation or harassment. Those who engage in such behavior will be brought to justice.          -0.1280                        3            0.00000\n",
      "18                                                   The security situation remains tense, and we urge residents to cooperate with law enforcement officials. We must work together to maintain peace and stability.           0.5423                        1            0.00000\n",
      "19                                                                             Let me be clear: the integrity of this election is paramount. Any attempts to challenge the results will be met with a firm response.           0.6705                        0            0.33525\n",
      "20                                                                              We are deploying additional personnel to hotspots and urging citizens to remain calm and avoid engaging in any provocative behavior.           0.3612                        1            0.00000\n",
      "21                                                                                                                     The situation is deteriorating rapidly. We need immediate action to prevent further violence.          -0.6124                        2            0.00000\n",
      "22                                                                                                                                          I call on all Kenyans to reject the divisive rhetoric and embrace unity.          -0.1027                        0            0.05135\n",
      "23                                                                                                                                                      We are prepared to use force if necessary to maintain order.           0.2263                        1            0.00000\n",
      "24                                                                                                                                                 The risk of escalation is extremely high. We must act decisively.          -0.2732                        1            0.00000\n",
      "25                                                                                                                                                                       Let us not repeat the mistakes of the past.           0.2755                        0            0.13775\n",
      "26                                                                                                                    We are monitoring all communications and taking action against those spreading misinformation.          -0.3182                        1            0.00000\n",
      "27                                                                                                                                                    The time for dialogue is over. We need immediate intervention.           0.0000                        1            0.00000\n"
     ]
    },
    {
     "data": {
      "image/png": "[encoded data removed]",
      "text/plain": [
       "<Figure size 1200x600 with 1 Axes>"
      ]
     },
     "metadata": {},
     "output_type": "display_data"
    }
   ],
   "source": [
    "# Display the results\n",
    "print(df[['statement', 'sentiment_score', 'inciteful_keyword_count', 'probability_score']].to_string())\n",
    "\n",
    "# Visualize the probability scores\n",
    "plt.figure(figsize=(12, 6))\n",
    "plt.bar(df.index, df['probability_score'], color='red')\n",
    "plt.xlabel('Statement Index')\n",
    "plt.ylabel('Probability Score')\n",
    "plt.title('Probability Score of Post-Election Violence per Statement')\n",
    "plt.xticks(df.index)\n",
    "plt.grid(axis='y', linestyle='--')\n",
    "plt.show()"
   ]
  },
  {
   "cell_type": "markdown",
   "id": "e7d5a7d9",
   "metadata": {
    "papermill": {
     "duration": 0.003832,
     "end_time": "2025-07-12T05:40:01.537247",
     "exception": false,
     "start_time": "2025-07-12T05:40:01.533415",
     "status": "completed"
    },
    "tags": []
   },
   "source": [
    "Bar chart showing the probalility scores of each statement. THe x-axis represents the statement index, and the y-axis represents the calculated probabilty score. The scores vary across the statements, with some showing significantly higher probability scores than others."
   ]
  }
 ],
 "metadata": {
  "kaggle": {
   "accelerator": "none",
   "dataSources": [
    {
     "datasetId": 7849565,
     "sourceId": 12443654,
     "sourceType": "datasetVersion"
    }
   ],
   "dockerImageVersionId": 31089,
   "isGpuEnabled": false,
   "isInternetEnabled": true,
   "language": "python",
   "sourceType": "notebook"
  },
  "kernelspec": {
   "display_name": "Python 3",
   "language": "python",
   "name": "python3"
  },
  "language_info": {
   "codemirror_mode": {
    "name": "ipython",
    "version": 3
   },
   "file_extension": ".py",
   "mimetype": "text/x-python",
   "name": "python",
   "nbconvert_exporter": "python",
   "pygments_lexer": "ipython3",
   "version": "3.11.13"
  },
  "papermill": {
   "default_parameters": {},
   "duration": 11.572467,
   "end_time": "2025-07-12T05:40:02.366265",
   "environment_variables": {},
   "exception": null,
   "input_path": "__notebook__.ipynb",
   "output_path": "__notebook__.ipynb",
   "parameters": {},
   "start_time": "2025-07-12T05:39:50.793798",
   "version": "2.6.0"
  }
 },
 "nbformat": 4,
 "nbformat_minor": 5
}
